{
 "cells": [
  {
   "cell_type": "markdown",
   "metadata": {},
   "source": [
    "# Imports"
   ]
  },
  {
   "cell_type": "code",
   "execution_count": 4,
   "metadata": {},
   "outputs": [],
   "source": [
    "import os\n",
    "os.environ[\"CUDA_DEVICE_ORDER\"]=\"PCI_BUS_ID\"\n",
    "os.environ[\"CUDA_VISIBLE_DEVICES\"]=\"1\"\n",
    "\n",
    "%reload_ext autoreload\n",
    "%autoreload 2\n",
    "#%matplotlib notebook\n",
    "%matplotlib inline\n",
    "\n",
    "from typing import List, Callable, Dict\n",
    "\n",
    "import sys\n",
    "import os\n",
    "\n",
    "#https://github.com/FAU-DLM/wsi_processing_pipeline\n",
    "sys.path.append(\"../\")\n",
    "sys.path.append(\"../wsi_processing_pipeline/\")\n",
    "sys.path.append(\"../wsi_processing_pipeline/tile_extraction\")\n",
    "sys.path.append(\"../wsi_processing_pipeline/shared\")\n",
    "import wsi_processing_pipeline\n",
    "import tile_extraction\n",
    "import preprocessing\n",
    "import postprocessing\n",
    "import shared\n",
    "from wsi_processing_pipeline.tile_extraction import tiles, util, slide, filter\n",
    "from wsi_processing_pipeline import shared\n",
    "from wsi_processing_pipeline.preprocessing import *\n",
    "import wsi_processing_pipeline.preprocessing.files_getter\n",
    "import wsi_processing_pipeline.preprocessing.name_getter\n",
    "from wsi_processing_pipeline.preprocessing.name_getter import NameGetter\n",
    "from wsi_processing_pipeline.preprocessing.tile_image_block import TileImage, label_tl_image, tile_image, TileTransform\n",
    "from wsi_processing_pipeline.preprocessing.tile_image_block import show_batch, TileImageBlock\n",
    "from shared.patient_manager import PatientManager\n",
    "import shared\n",
    "\n",
    "sys.path.append('../models-pytorch/pretrained-models.pytorch')\n",
    "import pretrainedmodels\n",
    "from pretrainedmodels import *\n",
    "\n",
    "\n",
    "import fastai\n",
    "from fastai.vision.all import *\n",
    "from typing import Dict\n",
    "import pandas as pd\n",
    "import numpy as np\n",
    "import os\n",
    "import torch\n",
    "torch.backends.cudnn.benchmark=True\n",
    "import torchvision\n",
    "from torchvision.models import *\n",
    "from torchsummary import summary\n",
    "from functools import partial, update_wrapper\n",
    "from tqdm import tqdm_notebook as tqdm\n",
    "import matplotlib.image as mpimg\n",
    "import shutil\n",
    "from PIL import Image\n",
    "import sklearn\n",
    "from sklearn.metrics import roc_curve, auc, roc_auc_score\n",
    "from sklearn.model_selection import train_test_split\n",
    "from sklearn.model_selection import StratifiedKFold, KFold\n",
    "from tqdm.notebook import tqdm\n",
    "\n",
    "import pathlib\n",
    "from pathlib import Path\n",
    "Path.ls = lambda x: [p for p in list(x.iterdir()) if '.ipynb_checkpoints' not in p.name]\n",
    "\n",
    "\n",
    "from concurrent.futures import as_completed, ProcessPoolExecutor\n",
    "from tqdm import tqdm\n",
    "\n",
    "#against DecompressionBombWarning\n",
    "Image.MAX_IMAGE_PIXELS = 10000000000   \n",
    "\n",
    "PATH = Path('/home/Deep_Learner/private/datasets/glioblastoma_methylation/')\n",
    "LABELS = PATH/'labels.xlsx'\n",
    "\n",
    "METHYLATED_1 = PATH/'methylated'\n",
    "METHYLATED_2 = PATH/'data2018_19'/'methylated'\n",
    "NON_METHYLATED_1 = PATH/'non_methylated'\n",
    "NON_METHYLATED_2 = PATH/'data2018_19'/'non_methylated'\n",
    "\n",
    "\n",
    "\n",
    "seed = 42\n",
    "np.random.seed(seed)"
   ]
  },
  {
   "cell_type": "markdown",
   "metadata": {},
   "source": [
    "# Data"
   ]
  },
  {
   "cell_type": "markdown",
   "metadata": {},
   "source": [
    "## tile paths"
   ]
  },
  {
   "cell_type": "code",
   "execution_count": 2,
   "metadata": {
    "scrolled": true
   },
   "outputs": [
    {
     "name": "stderr",
     "output_type": "stream",
     "text": [
      "213it [01:26,  2.46it/s]\n"
     ]
    }
   ],
   "source": [
    "tile_paths=wsi_processing_pipeline.preprocessing.files_getter.FilesGetter().get_dirs_and_files(path=PATH, \n",
    "                                                                        get_files=True, \n",
    "                                                                        suffix='.png', \n",
    "                                                                        recursive=True)"
   ]
  },
  {
   "cell_type": "code",
   "execution_count": 3,
   "metadata": {},
   "outputs": [
    {
     "data": {
      "text/plain": [
       "1938980"
      ]
     },
     "execution_count": 3,
     "metadata": {},
     "output_type": "execute_result"
    }
   ],
   "source": [
    "len(tile_paths)"
   ]
  },
  {
   "cell_type": "markdown",
   "metadata": {
    "heading_collapsed": true
   },
   "source": [
    "## check images"
   ]
  },
  {
   "cell_type": "code",
   "execution_count": 5,
   "metadata": {
    "hidden": true
   },
   "outputs": [],
   "source": [
    "def check_image(path):\n",
    "    try:\n",
    "        open_image(path)\n",
    "    except Exception as e:\n",
    "        return path\n",
    "        \n",
    "    return None"
   ]
  },
  {
   "cell_type": "code",
   "execution_count": null,
   "metadata": {
    "hidden": true
   },
   "outputs": [],
   "source": [
    "with ProcessPoolExecutor(max_workers=32) as pool:\n",
    "    with tqdm(total=len(tile_paths)) as progress:\n",
    "        futures = []\n",
    "\n",
    "        for p in tile_paths:\n",
    "            future = pool.submit(check_image, p)\n",
    "            future.add_done_callback(lambda p: progress.update())\n",
    "            futures.append(future)\n",
    "\n",
    "        results = []\n",
    "        for future in as_completed(futures):\n",
    "            result = future.result()\n",
    "            if result is not None:\n",
    "                results.append(result)"
   ]
  },
  {
   "cell_type": "code",
   "execution_count": null,
   "metadata": {
    "hidden": true
   },
   "outputs": [],
   "source": [
    "failed = []\n",
    "for p in tqdm(tile_paths_1819):\n",
    "    r = check_image(p)\n",
    "    if r is not None:\n",
    "        failed.append(r)"
   ]
  },
  {
   "cell_type": "markdown",
   "metadata": {},
   "source": [
    "## id and label funcs"
   ]
  },
  {
   "cell_type": "code",
   "execution_count": 5,
   "metadata": {},
   "outputs": [],
   "source": [
    "labels_df = pd.read_excel(LABELS)"
   ]
  },
  {
   "cell_type": "code",
   "execution_count": 6,
   "metadata": {},
   "outputs": [
    {
     "data": {
      "text/html": [
       "<div>\n",
       "<style scoped>\n",
       "    .dataframe tbody tr th:only-of-type {\n",
       "        vertical-align: middle;\n",
       "    }\n",
       "\n",
       "    .dataframe tbody tr th {\n",
       "        vertical-align: top;\n",
       "    }\n",
       "\n",
       "    .dataframe thead th {\n",
       "        text-align: right;\n",
       "    }\n",
       "</style>\n",
       "<table border=\"1\" class=\"dataframe\">\n",
       "  <thead>\n",
       "    <tr style=\"text-align: right;\">\n",
       "      <th></th>\n",
       "      <th>patient_id</th>\n",
       "      <th>case_id</th>\n",
       "      <th>slide_id</th>\n",
       "      <th>methylation_status</th>\n",
       "      <th>Unnamed: 4</th>\n",
       "    </tr>\n",
       "  </thead>\n",
       "  <tbody>\n",
       "    <tr>\n",
       "      <th>0</th>\n",
       "      <td>Schwemmer-Andreas-1974-03-14</td>\n",
       "      <td>N296-08</td>\n",
       "      <td>N296-08-I</td>\n",
       "      <td>0.0</td>\n",
       "      <td>NaN</td>\n",
       "    </tr>\n",
       "    <tr>\n",
       "      <th>1</th>\n",
       "      <td>Schwemmer-Andreas-1974-03-14</td>\n",
       "      <td>N296-08</td>\n",
       "      <td>N296-08-II</td>\n",
       "      <td>0.0</td>\n",
       "      <td>NaN</td>\n",
       "    </tr>\n",
       "    <tr>\n",
       "      <th>2</th>\n",
       "      <td>Ballmann-Artur-1934-06-04</td>\n",
       "      <td>N320-08</td>\n",
       "      <td>N320-08</td>\n",
       "      <td>0.0</td>\n",
       "      <td>NaN</td>\n",
       "    </tr>\n",
       "    <tr>\n",
       "      <th>3</th>\n",
       "      <td>Ballmann-Artur-1934-06-04</td>\n",
       "      <td>N320-08</td>\n",
       "      <td>N320-08</td>\n",
       "      <td>0.0</td>\n",
       "      <td>NaN</td>\n",
       "    </tr>\n",
       "    <tr>\n",
       "      <th>4</th>\n",
       "      <td>Brandt-Ernst-1941-07-14</td>\n",
       "      <td>N608-08</td>\n",
       "      <td>N608-08</td>\n",
       "      <td>0.0</td>\n",
       "      <td>NaN</td>\n",
       "    </tr>\n",
       "    <tr>\n",
       "      <th>...</th>\n",
       "      <td>...</td>\n",
       "      <td>...</td>\n",
       "      <td>...</td>\n",
       "      <td>...</td>\n",
       "      <td>...</td>\n",
       "    </tr>\n",
       "    <tr>\n",
       "      <th>206</th>\n",
       "      <td>Härtl_Kaczinski-Anita-1943-01-13</td>\n",
       "      <td>N1606-18</td>\n",
       "      <td>N1606-18</td>\n",
       "      <td>1.0</td>\n",
       "      <td>NaN</td>\n",
       "    </tr>\n",
       "    <tr>\n",
       "      <th>207</th>\n",
       "      <td>Heinrich-Dieter-1961-12-21</td>\n",
       "      <td>N1416-18</td>\n",
       "      <td>N1416-18</td>\n",
       "      <td>1.0</td>\n",
       "      <td>NaN</td>\n",
       "    </tr>\n",
       "    <tr>\n",
       "      <th>208</th>\n",
       "      <td>Herold-Walter-1953-11-08</td>\n",
       "      <td>N1393-18</td>\n",
       "      <td>N1393-18</td>\n",
       "      <td>1.0</td>\n",
       "      <td>NaN</td>\n",
       "    </tr>\n",
       "    <tr>\n",
       "      <th>209</th>\n",
       "      <td>Novic-Stanislav_Valentinovych-1974-02-23</td>\n",
       "      <td>N1300-18</td>\n",
       "      <td>N1300-18</td>\n",
       "      <td>1.0</td>\n",
       "      <td>NaN</td>\n",
       "    </tr>\n",
       "    <tr>\n",
       "      <th>210</th>\n",
       "      <td>Kloock-Thomas-1965-02-28</td>\n",
       "      <td>N1260-18</td>\n",
       "      <td>N1260-18</td>\n",
       "      <td>1.0</td>\n",
       "      <td>NaN</td>\n",
       "    </tr>\n",
       "  </tbody>\n",
       "</table>\n",
       "<p>211 rows × 5 columns</p>\n",
       "</div>"
      ],
      "text/plain": [
       "                                   patient_id   case_id    slide_id  \\\n",
       "0                Schwemmer-Andreas-1974-03-14   N296-08   N296-08-I   \n",
       "1                Schwemmer-Andreas-1974-03-14   N296-08  N296-08-II   \n",
       "2                   Ballmann-Artur-1934-06-04   N320-08     N320-08   \n",
       "3                   Ballmann-Artur-1934-06-04   N320-08     N320-08   \n",
       "4                     Brandt-Ernst-1941-07-14   N608-08     N608-08   \n",
       "..                                        ...       ...         ...   \n",
       "206          Härtl_Kaczinski-Anita-1943-01-13  N1606-18    N1606-18   \n",
       "207                Heinrich-Dieter-1961-12-21  N1416-18    N1416-18   \n",
       "208                  Herold-Walter-1953-11-08  N1393-18    N1393-18   \n",
       "209  Novic-Stanislav_Valentinovych-1974-02-23  N1300-18    N1300-18   \n",
       "210                  Kloock-Thomas-1965-02-28  N1260-18    N1260-18   \n",
       "\n",
       "     methylation_status Unnamed: 4  \n",
       "0                   0.0        NaN  \n",
       "1                   0.0        NaN  \n",
       "2                   0.0        NaN  \n",
       "3                   0.0        NaN  \n",
       "4                   0.0        NaN  \n",
       "..                  ...        ...  \n",
       "206                 1.0        NaN  \n",
       "207                 1.0        NaN  \n",
       "208                 1.0        NaN  \n",
       "209                 1.0        NaN  \n",
       "210                 1.0        NaN  \n",
       "\n",
       "[211 rows x 5 columns]"
      ]
     },
     "execution_count": 6,
     "metadata": {},
     "output_type": "execute_result"
    }
   ],
   "source": [
    "labels_df"
   ]
  },
  {
   "cell_type": "code",
   "execution_count": 7,
   "metadata": {},
   "outputs": [],
   "source": [
    "def get_slide_id_from_parent_folder_name(parent_folder_name:str)->str:\n",
    "    split = parent_folder_name.split(sep='.')\n",
    "    if((len(split) == 3) or (len(split) == 2 and 'I' in split[1])):\n",
    "        return f'{split[0]}-{split[1]}'\n",
    "    elif(len(split) == 2):\n",
    "        return split[0]#\n",
    "    elif(len(split) == 1):\n",
    "        return parent_folder_name\n",
    "    else:\n",
    "        assert False\n",
    "\n",
    "def get_patient_id_from_parent_folder_name(parent_folder_name:str)->str:\n",
    "    slide_id = get_slide_id_from_parent_folder_name(parent_folder_name)\n",
    "    return list(labels_df.loc[labels_df['slide_id'] == slide_id]['patient_id'])[0]\n",
    "\n",
    "def get_patient_id_from_tile_path(tile_path:pathlib.Path)->str:\n",
    "    slide_id = get_slide_id_from_parent_folder_name(tile_path.parent.name)\n",
    "    return list(labels_df.loc[labels_df['slide_id'] == slide_id]['patient_id'])[0]\n",
    "\n",
    "def get_case_id_from_tile_path(tile_path:pathlib.Path)->str:\n",
    "    slide_id = get_slide_id_from_parent_folder_name(tile_path.parent.name)\n",
    "    return list(labels_df.loc[labels_df['slide_id'] == slide_id]['case_id'])[0]\n",
    "\n",
    "def get_slide_id_from_tile_path(tile_path:pathlib.Path)->str:\n",
    "    return get_slide_id_from_parent_folder_name(tile_path.parent.name)\n",
    "\n",
    "def get_label_from_tile_path(tile_path:pathlib.Path)->List[int]:\n",
    "    if('non_methylated' in str(tile_path)):\n",
    "        return [0]\n",
    "    if('methylated' in str(tile_path)):\n",
    "        return [1]\n",
    "    assert False"
   ]
  },
  {
   "cell_type": "markdown",
   "metadata": {},
   "source": [
    "## patient manager"
   ]
  },
  {
   "cell_type": "code",
   "execution_count": 8,
   "metadata": {},
   "outputs": [],
   "source": [
    "patient_manager = PatientManager()"
   ]
  },
  {
   "cell_type": "code",
   "execution_count": 9,
   "metadata": {},
   "outputs": [
    {
     "name": "stderr",
     "output_type": "stream",
     "text": [
      "100%|██████████| 1938980/1938980 [28:11<00:00, 1146.48it/s] \n"
     ]
    }
   ],
   "source": [
    "patient_manager.create_from_preextracted_tiles(tile_paths=tile_paths, \n",
    "                                               patient_id_getter=get_patient_id_from_tile_path,\n",
    "                                               case_id_getter=get_case_id_from_tile_path, \n",
    "                                               slide_id_getter=get_slide_id_from_tile_path, \n",
    "                                               labels_getter=get_label_from_tile_path)"
   ]
  },
  {
   "cell_type": "code",
   "execution_count": 10,
   "metadata": {},
   "outputs": [],
   "source": [
    "train_size = 0.8\n",
    "validation_size = 0.2\n",
    "test_size = 0\n",
    "patient_manager.split(train_size=train_size, validation_size=validation_size, test_size=test_size, random_state=seed)"
   ]
  }
 ],
 "metadata": {
  "kernelspec": {
   "display_name": "DLM Py3",
   "language": "python",
   "name": "dlm_py3"
  },
  "language_info": {
   "codemirror_mode": {
    "name": "ipython",
    "version": 3
   },
   "file_extension": ".py",
   "mimetype": "text/x-python",
   "name": "python",
   "nbconvert_exporter": "python",
   "pygments_lexer": "ipython3",
   "version": "3.7.6"
  },
  "toc": {
   "base_numbering": 1,
   "nav_menu": {},
   "number_sections": true,
   "sideBar": true,
   "skip_h1_title": false,
   "title_cell": "Table of Contents",
   "title_sidebar": "Contents",
   "toc_cell": false,
   "toc_position": {},
   "toc_section_display": true,
   "toc_window_display": true
  }
 },
 "nbformat": 4,
 "nbformat_minor": 4
}
